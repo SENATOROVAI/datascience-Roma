{
 "cells": [
  {
   "cell_type": "markdown",
   "metadata": {},
   "source": [
    "19.10.24\n",
    "\n",
    "1. настроили github и python\n",
    "2. обсудили множества чисел (простые, натуральные, целые, рациональные, иррациональные), объединение, пересечение множеств\n",
    "3. диаграмма Эйлера-Венна, кванторы\n",
    "4. повторили сложение дробей, степени, понятие функции, графики sin и cos\n",
    "5. вопросы по школьной математике\n",
    "6. вопросы по теорверу, статистике"
   ]
  },
  {
   "cell_type": "markdown",
   "metadata": {},
   "source": [
    "c:\\Users\\burya\\AppData\\Local\\Programs\\Python\\Python312\\Scripts\\pre-commit.exe run --all-files for check on linter"
   ]
  },
  {
   "cell_type": "code",
   "execution_count": null,
   "metadata": {},
   "outputs": [],
   "source": [
    "\"\"\"Github lesson.\"\"\""
   ]
  },
  {
   "cell_type": "code",
   "execution_count": 3,
   "metadata": {},
   "outputs": [
    {
     "data": {
      "text/plain": [
       "2"
      ]
     },
     "execution_count": 3,
     "metadata": {},
     "output_type": "execute_result"
    }
   ],
   "source": [
    "1 + 1"
   ]
  }
 ],
 "metadata": {
  "kernelspec": {
   "display_name": "base",
   "language": "python",
   "name": "python3"
  },
  "language_info": {
   "codemirror_mode": {
    "name": "ipython",
    "version": 3
   },
   "file_extension": ".py",
   "mimetype": "text/x-python",
   "name": "python",
   "nbconvert_exporter": "python",
   "pygments_lexer": "ipython3",
   "version": "3.12.4"
  }
 },
 "nbformat": 4,
 "nbformat_minor": 2
}
